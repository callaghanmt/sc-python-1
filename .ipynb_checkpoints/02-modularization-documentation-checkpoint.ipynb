{
 "cells": [
  {
   "cell_type": "markdown",
   "metadata": {},
   "source": [
    "# Modularization and Documentation"
   ]
  },
  {
   "cell_type": "markdown",
   "metadata": {},
   "source": [
    "Now that we've covered some of the basic syntax and libraries in Python we can start to tackle our data analysis problem.\n",
    "We are interested in understanding the relationship between the weather and the number of mosquitos so that we can plan mosquito control measures.\n",
    "Since we want to apply these mosquito control measures at a number of different sites we need to understand how the relationship varies across sites.\n",
    "Remember that we have a series of CSV files with each file containing the data for a single location."
   ]
  },
  {
   "cell_type": "markdown",
   "metadata": {},
   "source": [
    "## Objectives"
   ]
  },
  {
   "cell_type": "markdown",
   "metadata": {},
   "source": [
    "* Write code for people, not computers\n",
    "* Break a program into chunks\n",
    "* Write and use functions in Python\n",
    "* Write useful documentation"
   ]
  },
  {
   "cell_type": "markdown",
   "metadata": {},
   "source": [
    "## Starting small"
   ]
  },
  {
   "cell_type": "markdown",
   "metadata": {},
   "source": [
    "When approaching computational tasks like this one it is typically best to start small,\n",
    "check each piece of code as you go,\n",
    "and make incremental changes.\n",
    "This helps avoid marathon debugging sessions\n",
    "because it's much easier to debug one small piece of the code at a time than to write 100 lines of code and\n",
    "then try to figure out all of the different bugs in it.\n",
    "\n",
    "Let's start by reading in the data from a single file and conducting a simple regression analysis on it.\n",
    "\n",
    "In fact, I would actually start by just importing the data and making sure that everything is coming in OK."
   ]
  },
  {
   "cell_type": "code",
   "execution_count": null,
   "metadata": {
    "collapsed": true
   },
   "outputs": [],
   "source": []
  },
  {
   "cell_type": "markdown",
   "metadata": {},
   "source": [
    "## Functions"
   ]
  },
  {
   "cell_type": "markdown",
   "metadata": {},
   "source": [
    "The next thing we need to do is loop over all of the possible data files,\n",
    "but in order to do that we're going to need to grow our code some more.\n",
    "Since our brain can only easily hold 5-7 pieces of information at once,\n",
    "and our code already has more than that many pieces,\n",
    "we need to start breaking our code into manageable sized chunks.\n",
    "This will let us read and understand the code more easily and make it easier to reuse pieces of our code.\n",
    "We'll do this using functions.\n",
    "\n",
    "Functions in Python take the general form\n",
    "\n",
    "~~~python\n",
    "def function_name(inputs):\n",
    "    do stuff\n",
    "    return output\n",
    "~~~\n",
    "\n",
    "So, if we want to write a function that returns the value of a number squared we could use:"
   ]
  },
  {
   "cell_type": "markdown",
   "metadata": {},
   "source": [
    "### Challenges"
   ]
  },
  {
   "cell_type": "markdown",
   "metadata": {},
   "source": [
    "1\\. Write a function that converts temperature from Fahrenheit to Celsius and use it to replace\n",
    "\n",
    "~~~python\n",
    "data['temperature'] = (data['temperature'] - 32) * 5 / 9.0\n",
    "~~~\n",
    "\n",
    "in our program.\n",
    "\n",
    "2\\. Write a function called `analyze()` that takes `data` as an input, performs the regression, makes the observed-predicted plot, and returns `parameters`.\n",
    "\n",
    "*Walk through someone's result.\n",
    "When discussing talk about different names.\n",
    "E.g., fahr_to_celsius is better than temp_to_celsius since it is explicit both the input and the output.\n",
    "Talk about the fact that even though this doesn't save us any lines of code it's still easier to read.*"
   ]
  },
  {
   "cell_type": "markdown",
   "metadata": {},
   "source": [
    "## The call stack"
   ]
  },
  {
   "cell_type": "markdown",
   "metadata": {},
   "source": [
    "Let's take a closer look at what happens when we call fahr_to_celsius(32.0). To make things clearer, we'll start by putting the initial value 32.0 in a variable and store the final result in one as well:"
   ]
  },
  {
   "cell_type": "markdown",
   "metadata": {},
   "source": [
    "#### Call Stack (Initial State)\n",
    "\n",
    "When the first three lines of this function are executed the function is created,\n",
    "but nothing happens.\n",
    "The function is like a recipe,\n",
    "it contains the information about how to do something,\n",
    "but it doesn't do so until you explicitly ask it to.\n",
    "We then create the variable `original` and assign the value 32.0 to it.\n",
    "The values `tempF` and `tempC` don't currently exist. \n",
    "\n",
    "#### Call Stack Immediately After Function Call\n",
    "\n",
    "When we call `fahr_to_celsius`,\n",
    "Python creates another stack frame to hold fahr_to_celsius's variables.\n",
    "Upon creation this stack frame only includes the inputs being passed to the function,\n",
    "so in our case `tempF`.\n",
    "As the function is executed variables created by the function are stored in the functions stack frame,\n",
    "so `tempC` is created in the `fahr_to_celsius` stack frame.\n",
    "\n",
    "#### Call Stack At End Of Function Call\n",
    "\n",
    "When the call to `fahr_to_celsius` returns a value,\n",
    "Python throws away `fahr_to_celsius`'s stack frame,\n",
    "including all of the variables it contains,\n",
    "and creates a new variable\n",
    "in the original stack frame to hold the temperature in Celsius.\n",
    "\n",
    "#### Call Stack After End\n",
    "\n",
    "This final stack frame is always there;\n",
    "it holds the variables we defined outside the functions in our code.\n",
    "What it doesn't hold is the variables that were in the other stack frames.\n",
    "If we try to get the value of `tempF` or `tempC` after our functions have finished running,\n",
    "Python tells us that there's no such thing:\n"
   ]
  },
  {
   "cell_type": "markdown",
   "metadata": {},
   "source": [
    "## Testing Functions"
   ]
  },
  {
   "cell_type": "markdown",
   "metadata": {
    "cell_tags": []
   },
   "source": [
    "Once we start putting things into functions so that we can re-use them,\n",
    "we need to start testing that those functions are working correctly.\n",
    "The most basic thing we can do is some informal testing to make sure the function is doing what it is supposed to do.\n",
    "To see how to do this, let's write a function to center the values in a dataset prior to conducting statistical analysis. \n",
    "Centering means setting the mean of each variable to be the same value, typically zero."
   ]
  },
  {
   "cell_type": "markdown",
   "metadata": {},
   "source": [
    "## Documentation"
   ]
  },
  {
   "cell_type": "markdown",
   "metadata": {},
   "source": [
    "OK, the `center` function seems to be working fine.\n",
    "Does anyone else see anything that's missing before we move on?\n",
    "\n",
    "Yes, we should write some [documentation](../../gloss.html#documentation)\n",
    "to remind ourselves later what it's for and how to use it.\n",
    "This function may be fairly straightforward,\n",
    "but in most cases it won't be so easy to remember exactly what a function is doing in a few months.\n",
    "Just imagine looking at our `analyze` function a few months in the future\n",
    "and trying to remember exactly what it was doing just based on the code.\n",
    "\n",
    "The usual way to put documentation in code is to add [comments](../../gloss.html#comment) like this:"
   ]
  },
  {
   "cell_type": "markdown",
   "metadata": {},
   "source": [
    "### Challenge"
   ]
  },
  {
   "cell_type": "markdown",
   "metadata": {},
   "source": [
    "1. Test your temperature conversion function to make sure it's working\n",
    "   (think about some temperatures that you easily know the conversion for).\n",
    "2. Add documentation to both the temperature conversation function and the analysis function."
   ]
  },
  {
   "cell_type": "markdown",
   "metadata": {},
   "source": [
    "## Looping over files"
   ]
  },
  {
   "cell_type": "markdown",
   "metadata": {},
   "source": [
    "So now our code looks something like this:"
   ]
  },
  {
   "cell_type": "code",
   "execution_count": 25,
   "metadata": {
    "collapsed": false
   },
   "outputs": [
    {
     "name": "stdout",
     "output_type": "stream",
     "text": [
      "Intercept      17.545739\n",
      "temperature     0.871943\n",
      "rainfall        0.696717\n",
      "dtype: float64\n"
     ]
    },
    {
     "data": {
      "image/png": "[encoded data removed]",
      "text/plain": [
       "<matplotlib.figure.Figure at 0x5b38890>"
      ]
     },
     "metadata": {},
     "output_type": "display_data"
    }
   ],
   "source": [
    "import pandas as pd\n",
    "import statsmodels.api as sm\n",
    "import matplotlib.pyplot as plt\n",
    "\n",
    "def fahr_to_celsius(tempF):\n",
    "    \"\"\"Convert fahrenheit to celsius\"\"\"\n",
    "    tempC = (tempF - 32) * 5 / 9.0\n",
    "    return tempC\n",
    "\n",
    "def analyze(data):\n",
    "    \"\"\"Perform regression analysis on mosquito data\n",
    "    \n",
    "    Takes a dataframe as input that includes columns named 'temperature',\n",
    "    'rainfall', and 'mosquitos'.\n",
    "    \n",
    "    Performs a multiple regression to predict the number of mosquitos.\n",
    "    Creates an observed-predicted plot of the result and\n",
    "    returns the parameters of the regression.\n",
    "    \n",
    "    \"\"\"\n",
    "    regr_results = sm.OLS.from_formula('mosquitos ~ temperature + rainfall', data).fit()\n",
    "    parameters = regr_results.params\n",
    "    predicted = parameters[0] + parameters[1] * data['temperature'] + parameters[2] * data['rainfall']\n",
    "    plt.figure()\n",
    "    plt.plot(predicted, data['mosquitos'], 'ro')\n",
    "    min_mosquitos, max_mosquitos = min(data['mosquitos']), max(data['mosquitos'])\n",
    "    plt.plot([min_mosquitos, max_mosquitos], [min_mosquitos, max_mosquitos], 'k-')\n",
    "    return parameters\n",
    "\n",
    "data = pd.read_csv('A2_mosquito_data.csv')\n",
    "data['temperature'] = fahr_to_celsius(data['temperature'])\n",
    "regr_results = analyze(data)\n",
    "print parameters"
   ]
  },
  {
   "cell_type": "markdown",
   "metadata": {},
   "source": [
    "Now we want to loop over all of the possible data files,\n",
    "and to do that we need to know their names.\n",
    "If we only had a dozen files we could write them all down,\n",
    "but if we have hundreds of files or the filenames change then that won't really work.\n",
    "Fortunately Python has a built in library to help us find the files we want to work with called `glob`."
   ]
  },
  {
   "cell_type": "markdown",
   "metadata": {},
   "source": [
    "### Challenge"
   ]
  },
  {
   "cell_type": "markdown",
   "metadata": {},
   "source": [
    "Modify your code to loop over all of the files in your directory,\n",
    "making an observed-predicted plot for each file and printing the parameters."
   ]
  }
 ],
 "metadata": {
  "kernelspec": {
   "display_name": "Python 2",
   "language": "python",
   "name": "python2"
  },
  "language_info": {
   "codemirror_mode": {
    "name": "ipython",
    "version": 2
   },
   "file_extension": ".py",
   "mimetype": "text/x-python",
   "name": "python",
   "nbconvert_exporter": "python",
   "pygments_lexer": "ipython2",
   "version": "2.7.10"
  }
 },
 "nbformat": 4,
 "nbformat_minor": 0
}
